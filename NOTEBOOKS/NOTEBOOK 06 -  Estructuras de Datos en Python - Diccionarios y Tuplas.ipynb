{
    "cells": [
        {
            "attachments": {},
            "cell_type": "markdown",
            "metadata": {
                "azdata_cell_guid": "e738b43d-fda9-409b-9e4e-f356323e1dbc"
            },
            "source": [
                "# Notebook 06 - Estructuras de Datos en Python - Diccionarios y Tuplas\n",
                "\n",
                "## Fundamentos de Python | UMCA\n",
                "\n",
                "## Profesor: Ing. Andrés Mena Abarca\n",
                "\n",
                "### <mark>**Nombre del estudiante yariel araya.\n",
                "\n",
                "* * *"
            ]
        },
        {
            "attachments": {},
            "cell_type": "markdown",
            "metadata": {
                "azdata_cell_guid": "5a9661f6-9c22-438b-8530-debb92fea2ff"
            },
            "source": [
                "#### **Introducción a Diccionarios y Tuplas**\n",
                "\n",
                "En esta clase profundizaremos en dos estructuras clave en Python: **diccionarios** y **tuplas**. Estas estructuras son fundamentales para manejar y organizar datos en programación. La sesión se dividirá en tres partes:\n",
                "\n",
                "1. **Comparación y diferencias entre diccionarios y tuplas.**\n",
                "2. **Funciones y métodos clave.**\n",
                "3. **Retos prácticos y un ejercicio de análisis de datos.**\n",
                "\n",
                "### 1\\. **Comparación y Diferencias entre Diccionarios y Tuplas**\n",
                "\n",
                "| Aspecto | Diccionarios | Tuplas |\n",
                "| --- | --- | --- |\n",
                "| **Estructura** | Colección de pares clave-valor. Cada valor está asociado a una clave única. | Secuencia ordenada de elementos. |\n",
                "| **Mutabilidad** | Mutables: podemos añadir, modificar o eliminar elementos después de su creación. | Inmutables: una vez creadas, no se pueden cambiar. |\n",
                "| **Acceso** | Se accede a los valores mediante claves (usualmente cadenas o números). | Se accede a los elementos mediante índices (0, 1, 2, ...). |\n",
                "| **Uso típico** | Ideal para representar relaciones de mapeo, como bases de datos simples o configuraciones. | Útil para almacenar conjuntos de valores inmutables, como coordenadas o datos de configuración fija. |\n",
                "| **Ejemplo común** | `{\"nombre\": \"Juan\", \"edad\": 30}` | `(\"Python\", \"esencial\", 3.8)` |\n",
                "\n",
                "**¿Cuándo Usar Cada Estructura?**\n",
                "\n",
                "- **Diccionarios**: cuando necesitamos buscar datos asociados a una clave o necesitamos modificar los datos frecuentemente.\n",
                "- **Tuplas**: cuando los datos son constantes y no requieren cambios, o cuando la inmutabilidad es una ventaja (e.g., datos que se usarán como claves en un diccionario).\n",
                "\n",
                "### Funciones y Métodos Clave para Diccionarios y Tuplas\n",
                "\n",
                "* * *\n",
                "\n",
                "#### **Diccionarios**\n",
                "\n",
                "**Acceso y Manipulación de Elementos**"
            ]
        },
        {
            "cell_type": "code",
            "execution_count": 2,
            "metadata": {
                "azdata_cell_guid": "65553934-e4e4-4b44-aa2e-b234d1a33667",
                "language": "python"
            },
            "outputs": [
                {
                    "name": "stdout",
                    "output_type": "stream",
                    "text": [
                        "3\n",
                        "0\n"
                    ]
                }
            ],
            "source": [
                "# Diccionario de ejemplo\n",
                "frutas = {\"manzana\": 3, \"banana\": 5, \"pera\": 2}\n",
                "\n",
                "# Accede al valor de una clave\n",
                "print(frutas[\"manzana\"])  # Output: 3\n",
                "\n",
                "# Obtiene el valor de una clave, o un valor por defecto si no existe\n",
                "\n",
                "print(frutas.get('naraja',0))\n",
                "# Vista de todas las claves\n",
                "# Output: dict_keys(['manzana', 'banana', 'pera'])\n",
                "\n",
                "\n",
                "# Vista de todos los valores\n",
                "# Output: dict_values([3, 5, 2])\n",
                "\n",
                "\n",
                "\n",
                "# Vista de pares clave-valor\n",
                "# Output: dict_items([('manzana', 3), ('banana', 5), ('pera', 2)])\n"
            ]
        },
        {
            "attachments": {},
            "cell_type": "markdown",
            "metadata": {
                "azdata_cell_guid": "53d2cb94-1fa6-45c0-8c98-7ce166fecd1b",
                "language": "python"
            },
            "source": [
                "### Añadir, Modificar y Eliminar Elementos"
            ]
        },
        {
            "cell_type": "code",
            "execution_count": null,
            "metadata": {
                "azdata_cell_guid": "d34df69d-7d3a-4890-bf9f-46543c9720c3",
                "language": "python"
            },
            "outputs": [],
            "source": [
                "# Añade o actualiza el valor de una clave\n",
                "frutas['narajas'] = 4\n",
                "print(frutas)\n",
                "\n",
                "# Elimina un elemento y devuelve su valor\n",
                "cant_manzana = frutas.pop(\"manzana\")\n",
                "print(cant_manzana)\n",
                "print(futas)\n",
                "\n",
                "# Actualiza el diccionario con otro diccionario\n",
                "\n",
                "frutas.update(('pera':4, 'uva':5))\n",
                "print(frutas)"
            ]
        },
        {
            "attachments": {},
            "cell_type": "markdown",
            "metadata": {
                "azdata_cell_guid": "27d04572-8b5b-46fa-b3ee-4ed3f2939a34",
                "language": "python"
            },
            "source": [
                "## **Tuplas**\n",
                "\n",
                "## \n",
                "\n",
                "**Acceso a Elementos**"
            ]
        },
        {
            "cell_type": "code",
            "execution_count": null,
            "metadata": {
                "azdata_cell_guid": "49003a53-30be-4eb6-98d0-8a86594a1947",
                "language": "python"
            },
            "outputs": [],
            "source": [
                "# Tupla de ejemplo\n",
                "persona = (\"Carlos\", 25)\n",
                "\n",
                "nombre, edad = persona\n",
                "print(f\"hola, mi nombre es {nombre} y tengo {edad} años.\")\n",
                "\n",
                "# Acceso por índice\n",
                "print(persona[0])  # Output: \"Carlos\"\n",
                "\n",
                "\n",
                "# Desempaquetado\n",
                "\n"
            ]
        },
        {
            "attachments": {},
            "cell_type": "markdown",
            "metadata": {
                "azdata_cell_guid": "4b7c571d-d8f2-4d72-9f79-9718986200eb"
            },
            "source": [
                "### Operaciones Útiles"
            ]
        },
        {
            "cell_type": "code",
            "execution_count": 3,
            "metadata": {
                "azdata_cell_guid": "61977840-044f-4cb3-858a-1812c43f3e2b",
                "language": "python"
            },
            "outputs": [
                {
                    "ename": "NameError",
                    "evalue": "name 'persona' is not defined",
                    "output_type": "error",
                    "traceback": [
                        "\u001b[31m---------------------------------------------------------------------------\u001b[39m",
                        "\u001b[31mNameError\u001b[39m                                 Traceback (most recent call last)",
                        "\u001b[36mCell\u001b[39m\u001b[36m \u001b[39m\u001b[32mIn[3]\u001b[39m\u001b[32m, line 2\u001b[39m\n\u001b[32m      1\u001b[39m \u001b[38;5;66;03m# Longitud de la tupla\u001b[39;00m\n\u001b[32m----> \u001b[39m\u001b[32m2\u001b[39m \u001b[38;5;28mprint\u001b[39m(\u001b[38;5;28mlen\u001b[39m(\u001b[43mpersona\u001b[49m))  \u001b[38;5;66;03m# Output: 2\u001b[39;00m\n\u001b[32m      4\u001b[39m \u001b[38;5;66;03m# Concatenación de tuplas\u001b[39;00m\n\u001b[32m      5\u001b[39m t1 = (\u001b[32m1\u001b[39m,\u001b[32m2\u001b[39m)\n",
                        "\u001b[31mNameError\u001b[39m: name 'persona' is not defined"
                    ]
                }
            ],
            "source": [
                "# Longitud de la tupla\n",
                "print(len(persona))  # Output: 2\n",
                "\n",
                "# Concatenación de tuplas\n",
                "t1 = (1,2)\n",
                "t2 = (3,4)\n",
                "print(t1 + t2)  # Output: (1, 2, 3, 4)\n",
                "\n",
                "# Verificar si un elemento está en la tupla\n",
                "\n"
            ]
        },
        {
            "attachments": {},
            "cell_type": "markdown",
            "metadata": {
                "azdata_cell_guid": "549b6c62-76c6-4412-ae94-4d7a0ebd790d"
            },
            "source": [
                "### 3\\. **Retos Prácticos**\n",
                "\n",
                "#### **Ejercicio 1: Gestión de Inventario con Diccionarios**\n",
                "\n",
                "**Descripción**: Imagina una tienda que necesita llevar un control de inventario. Se nos da una lista de productos y queremos contar la cantidad de cada uno.\n",
                "\n",
                "**Objetivo**: Implementar el código para contar la frecuencia de cada producto usando un diccionario."
            ]
        },
        {
            "cell_type": "code",
            "execution_count": 4,
            "metadata": {
                "azdata_cell_guid": "f5cffccc-7f3a-45f8-b203-53faac8d2ab0",
                "language": "python"
            },
            "outputs": [
                {
                    "name": "stdout",
                    "output_type": "stream",
                    "text": [
                        "{'manzana': 3, 'banana': 2, 'pera': 1}\n"
                    ]
                }
            ],
            "source": [
                "productos = [\"manzana\", \"banana\", \"manzana\", \"pera\", \"banana\", \"manzana\"]\n",
                "inventario = {}\n",
                "\n",
                "inventario = {}\n",
                "for producto in productos:\n",
                "    if producto in inventario:\n",
                "        inventario[producto] += 1\n",
                "    else:\n",
                "        inventario[producto] = 1\n",
                "\n",
                "\n",
                "\n",
                "\n",
                "\n",
                "\n",
                "\n",
                "\n",
                "print(inventario)  # {'manzana': 3, 'banana': 2, 'pera': 1}\n"
            ]
        },
        {
            "attachments": {},
            "cell_type": "markdown",
            "metadata": {
                "azdata_cell_guid": "2ceed8f4-0a9a-48ac-ba0d-d48dc319ab9f",
                "language": "python"
            },
            "source": [
                "#### **Ejercicio 2: Procesamiento de Coordenadas con Tuplas**\n",
                "\n",
                "**Descripción**: Dado un conjunto de coordenadas de puntos, queremos calcular la distancia entre dos puntos en un plano 2D.\n",
                "\n",
                "**Objetivo**: Usar una tupla para representar las coordenadas de los puntos y calcular la distancia."
            ]
        },
        {
            "cell_type": "code",
            "execution_count": null,
            "metadata": {
                "azdata_cell_guid": "5368c6bd-5224-4c6f-a5ad-ef6767750039",
                "language": "python"
            },
            "outputs": [
                {
                    "name": "stdout",
                    "output_type": "stream",
                    "text": [
                        "5.0\n"
                    ]
                }
            ],
            "source": [
                "punto1 = 3\n",
                "punto2 = 10\n",
                "\n",
                "# Cálculo de distancia en 1D\n",
                "from math import sqrt\n",
                "punto1 = (1,2)\n",
                "punto2 = (4,6)\n",
                "distancia = sqrt((punto2[0] - punto1[0])**2 + (punto2[1] - punto1[1])**2)"
            ]
        },
        {
            "attachments": {},
            "cell_type": "markdown",
            "metadata": {
                "azdata_cell_guid": "02262547-dabe-40b9-9ef0-5863dcad648b",
                "language": "python"
            },
            "source": [
                "### **Ejercicio Final de Análisis de Datos: Procesamiento de Ventas**\n",
                "\n",
                "### \n",
                "\n",
                "**Contexto**: Supón que trabajas para una cadena de tiendas y tienes los datos de ventas en un formato que usa diccionarios y tuplas. Cada entrada en el registro de ventas tiene el formato:"
            ]
        },
        {
            "cell_type": "code",
            "execution_count": null,
            "metadata": {
                "azdata_cell_guid": "fb7ea25e-c906-4f7e-9265-dd63d3193b54",
                "language": "python"
            },
            "outputs": [],
            "source": [
                "ventas = [\n",
                "    {\"producto\": \"laptop\", \"precio\": 700, \"cantidad\": 3},\n",
                "    {\"producto\": \"ratón\", \"precio\": 25, \"cantidad\": 10},\n",
                "    {\"producto\": \"teclado\", \"precio\": 45, \"cantidad\": 5},\n",
                "]\n"
            ]
        },
        {
            "attachments": {},
            "cell_type": "markdown",
            "metadata": {
                "azdata_cell_guid": "babcfd28-f173-4adb-b593-c5cf58370bc0",
                "language": "python"
            },
            "source": [
                "**Instrucciones**:\n",
                "\n",
                "1. Calcula el ingreso total de ventas por cada producto.\n",
                "2. Muestra el ingreso total en pantalla.\n",
                "\n",
                "**Objetivo**: Realizar cálculos en un diccionario de ventas y entender cómo los diccionarios pueden facilitar el análisis de datos.  \n",
                "\n",
                "**Código de Solución**:"
            ]
        },
        {
            "cell_type": "code",
            "execution_count": 2,
            "metadata": {
                "azdata_cell_guid": "85051147-a5a3-40e9-a423-179ac721be03",
                "language": "python",
                "tags": []
            },
            "outputs": [
                {
                    "name": "stdout",
                    "output_type": "stream",
                    "text": [
                        "laptop\n",
                        "El producto laptop tiene valor 700\n",
                        "Total de venta es: 2100\n",
                        "ratón\n",
                        "El producto ratón tiene valor 25\n",
                        "Total de venta es: 250\n",
                        "teclado\n",
                        "El producto teclado tiene valor 45\n",
                        "Total de venta es: 225\n",
                        "Total global de ventas:  2575\n"
                    ]
                }
            ],
            "source": [
                "\n",
                "\n",
                "ventas = [\n",
                "    {\"producto\": \"laptop\", \"precio\": 700, \"cantidad\": 3},\n",
                "    {\"producto\": \"ratón\", \"precio\": 25, \"cantidad\": 10},\n",
                "    {\"producto\": \"teclado\", \"precio\": 45, \"cantidad\": 5},\n",
                "]\n",
                "total = 0\n",
                "\n",
                "for venta in ventas:    \n",
                "    print(venta['producto'])\n",
                "    print(f\"El producto {venta['producto']} tiene valor {venta['precio']}\")\n",
                "    print(f\"Total de venta es: {venta['precio'] * venta['cantidad']}\")\n",
                "    total += venta['precio'] * venta['cantidad']\n",
                "print('Total global de ventas: ', total)"
            ]
        }
    ],
    "metadata": {
        "kernelspec": {
            "display_name": "Python 3",
            "language": "python",
            "name": "python3"
        },
        "language_info": {
            "codemirror_mode": {
                "name": "ipython",
                "version": 3
            },
            "file_extension": ".py",
            "mimetype": "text/x-python",
            "name": "python",
            "nbconvert_exporter": "python",
            "pygments_lexer": "ipython3",
            "version": "3.13.3"
        }
    },
    "nbformat": 4,
    "nbformat_minor": 2
}
