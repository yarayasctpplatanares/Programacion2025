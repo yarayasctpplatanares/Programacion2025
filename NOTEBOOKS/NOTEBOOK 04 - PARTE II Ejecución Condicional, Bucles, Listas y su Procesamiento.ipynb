{
    "cells": [
        {
            "attachments": {},
            "cell_type": "markdown",
            "metadata": {
                "azdata_cell_guid": "5a9661f6-9c22-438b-8530-debb92fea2ff"
            },
            "source": [
                "# NOTEBOOK 04 - PARTE II Ejecución Condicional, Bucles, Listas y su Procesamiento\n",
                "\n",
                "## Fundamentos de Python | UMCA\n",
                "\n",
                "## Profesor: Ing. Andrés Mena Abarca\n",
                "\n",
<<<<<<< HEAD
                "### <mark>**Nombre del estudiante: yariel araya**</mark>\n",
=======
                "### <mark>**Nombre del estudiante:**</mark> Yeiner Meza Aguilar \n",
>>>>>>> a71e9c4f0218fff378410005e891481d70b4224f
                "\n",
                "* * *\n",
                "\n",
                "## **¿Qué son las Listas en Python?**\n",
                "\n",
                "Imagina que tienes una caja mágica que puede contener todo tipo de objetos: desde libros, juguetes, hasta otros contenedores con más objetos dentro. No solo eso, esta caja tiene la capacidad de cambiar su contenido en cualquier momento; puedes agregar nuevos objetos, eliminar los que ya no necesitas o reorganizar su interior. En Python, esta caja mágica es lo que llamamos una **lista**.\n",
                "\n",
                "## **Definición Formal:**\n",
                "\n",
                "Una **lista** en Python es una estructura de datos **ordenada** y **mutable** que puede contener una colección de elementos, los cuales pueden ser de diferentes tipos (enteros, cadenas, booleanos, otras listas, etc.). Las listas son muy versátiles y son una de las estructuras más utilizadas en Python debido a su flexibilidad y facilidad de uso.\n",
                "\n",
                "### **Características Clave de las Listas**\n",
                "\n",
                "1. **Ordenadas:** Mantienen el orden de los elementos tal y como fueron agregados.\n",
                "2. **Mutables:** Puedes modificar su contenido sin crear una nueva lista.\n",
                "3. **Indexadas:** Cada elemento tiene una posición (índice) que permite acceder a él.\n",
                "4. **Heterogéneas:** Pueden contener elementos de diferentes tipos.\n",
                "\n",
                "### **Analogía Creativa: La Lista como un Tren**\n",
                "\n",
                "Imagina una lista como un tren compuesto por varios vagones. Cada vagón (elemento) tiene un número (índice) y puede contener cualquier cosa: pasajeros, carga, incluso otros vagones (listas anidadas). Puedes:\n",
                "\n",
                "- **Acceder** a un vagón específico usando su número.\n",
                "- **Agregar** o **eliminar** vagones en cualquier posición.\n",
                "- **Reordenar** los vagones según tus necesidades.\n",
                "\n",
                "### **1\\. Creación de Listas**\n",
                "\n",
                "### \n",
                "\n",
                "**Sintaxis básica:**\n",
                "\n",
                "```\n",
                "mi_lista = [elemento1, elemento2, elemento3]\n",
                "```\n",
                "\n",
                "Puedes crear listas de varias formas:\n",
                "\n",
                "1. **Lista Vacía:**"
            ]
        },
        {
            "cell_type": "code",
            "execution_count": 2,
            "metadata": {
                "azdata_cell_guid": "65553934-e4e4-4b44-aa2e-b234d1a33667",
                "language": "python"
            },
            "outputs": [
                {
                    "name": "stdout",
                    "output_type": "stream",
                    "text": [
                        "16\n"
                    ]
                }
            ],
            "source": [
<<<<<<< HEAD
                "#           0  1   2\n",
                "mi_lista = [15,16,17]\n",
                "print (mi_lista[1])"
=======
                "mi_lista = [15,16,17]\n",
                "print(mi_lista[1])"
>>>>>>> a71e9c4f0218fff378410005e891481d70b4224f
            ]
        },
        {
            "attachments": {},
            "cell_type": "markdown",
            "metadata": {
                "azdata_cell_guid": "27d04572-8b5b-46fa-b3ee-4ed3f2939a34",
                "language": "python"
            },
            "source": [
                "2. **Lista con Elementos:**"
            ]
        },
        {
            "cell_type": "code",
<<<<<<< HEAD
            "execution_count": null,
=======
            "execution_count": 9,
>>>>>>> a71e9c4f0218fff378410005e891481d70b4224f
            "metadata": {
                "azdata_cell_guid": "0ed8a61e-b610-437d-9a78-c75ab079f2b7",
                "language": "python"
            },
<<<<<<< HEAD
            "outputs": [],
            "source": [
                "#Crea tres tipo de listas diferentes\n",
                "edades = [13,14,15,16,17,18,19]\n",
                "frutas = [\"manzana\",\"pera\",\"piña\",\"naranja\"]\n",
                "#        0       1   2   3      4\n",
                "est = ['yariel',15,40,666-234,false]\n",
                "print(f'el estudinte {est[0]},tiene {est[1]} \n",
                "\n",
                "\n"
=======
            "outputs": [
                {
                    "name": "stdout",
                    "output_type": "stream",
                    "text": [
                        "17\n",
                        "['manzana', 'banano', 'uvas', 'aguacate']\n",
                        "['Macho', 16, '8777-0720', False, 49.6]\n",
                        "El estudiante Macho,tiene 16años de edad.Tel:8777-0720.Peso73\n"
                    ]
                }
            ],
            "source": [
                "#Crea tres tipo de listas diferentes\n",
                "edades = [13,14,15,16,17,18,19]\n",
                "frutas = ['manzana','banano','uvas','aguacate']\n",
                "est = ['Macho',16,'8777-0720',False,73]\n",
                "print(edades[4])\n",
                "print(frutas)\n",
                "print(Macho)\n",
                "print(f'El estudiante {est[0]},tiene {est[1]}años de edad.Tel:{est[2]}.Peso{est[4]}')"
>>>>>>> a71e9c4f0218fff378410005e891481d70b4224f
            ]
        },
        {
            "attachments": {},
            "cell_type": "markdown",
            "metadata": {
                "azdata_cell_guid": "babcfd28-f173-4adb-b593-c5cf58370bc0",
                "language": "python"
            },
            "source": [
                "3. **Usando la Función list():**"
            ]
        },
        {
            "cell_type": "code",
            "execution_count": null,
<<<<<<< HEAD
=======
            "metadata": {},
            "outputs": [],
            "source": []
        },
        {
            "cell_type": "code",
            "execution_count": null,
>>>>>>> a71e9c4f0218fff378410005e891481d70b4224f
            "metadata": {
                "azdata_cell_guid": "85051147-a5a3-40e9-a423-179ac721be03",
                "language": "python"
            },
            "outputs": [],
            "source": [
                "#Convertir en lista la cadena 'abcdefghijk'"
            ]
        },
        {
            "attachments": {},
            "cell_type": "markdown",
            "metadata": {
                "azdata_cell_guid": "e75d82f8-c903-459c-b6b4-3cdc9d23ac5c"
            },
            "source": [
                "### **2\\. Acceso a Elementos**\n",
                "\n",
                "Puedes acceder a los elementos de una lista usando índices.\n",
                "\n",
                "**Ejemplo:**"
            ]
        },
        {
            "cell_type": "code",
            "execution_count": null,
            "metadata": {
                "azdata_cell_guid": "26417c6c-aa5d-41a9-b7c7-fa268a476a6d",
                "language": "python",
                "tags": []
            },
            "outputs": [],
            "source": [
                "#Trabajemos con la lista frutas\n",
                "\n"
            ]
        },
        {
            "attachments": {},
            "cell_type": "markdown",
            "metadata": {
                "azdata_cell_guid": "ac71941a-8e0d-4ea1-98ff-b293ecd8defb",
                "language": "python"
            },
            "source": [
                "### **3\\. Modificación de Elementos**\n",
                "\n",
                "Al ser mutables, puedes cambiar los valores de los elementos existentes.\n",
                "\n",
                "**Ejemplo:**"
            ]
        },
        {
            "cell_type": "code",
<<<<<<< HEAD
            "execution_count": 24,
=======
            "execution_count": null,
>>>>>>> a71e9c4f0218fff378410005e891481d70b4224f
            "metadata": {
                "azdata_cell_guid": "d820e888-4c7f-488e-8d16-506bfb2d7083",
                "language": "python"
            },
            "outputs": [
                {
                    "name": "stdout",
                    "output_type": "stream",
                    "text": [
<<<<<<< HEAD
                        "['110202045', 'juan pedro', 'abarca', 1.78, 'español']\n"
=======
                        "['110202045', 'Juan Pedro', 'Guerrero', 1.7, 'Español']\n"
>>>>>>> a71e9c4f0218fff378410005e891481d70b4224f
                    ]
                }
            ],
            "source": [
<<<<<<< HEAD
                "#indice        0          1             2           3      4\n",
                "profesor = ['110202045', 'juan pedro', 'guerrero', 1.50, 'matematicas']\n",
                "profesor[3] = 1.78\n",
                "profesor[4] = ('español')\n",
                "profesor[2] = input('ingrese el apellido correcto: ')\n",
=======
                "profesor = ['110202045','Juan Pedro','Guerrero',1.50,'Matematicas']\n",
                "\n",
                "profesor[3] = 1.70\n",
                "profesor[4] = 'Español'#Edita Materia Indice 4\n",
                "\n",
>>>>>>> a71e9c4f0218fff378410005e891481d70b4224f
                "print(profesor)"
            ]
        },
        {
            "attachments": {},
            "cell_type": "markdown",
            "metadata": {
                "azdata_cell_guid": "7d08ceac-43f5-4144-9a55-2524859d645c"
            },
            "source": [
                "### **4\\. Slicing (Segmentación)**\n",
                "\n",
                "Puedes obtener sublistas usando la notación de slicing.\n",
                "\n",
                "**Sintaxis:**\n",
                "\n",
                "```\n",
                "sub_lista = lista[inicio:fin:paso]\n",
                "```"
            ]
        },
        {
            "cell_type": "code",
<<<<<<< HEAD
            "execution_count": 6,
=======
            "execution_count": 1,
>>>>>>> a71e9c4f0218fff378410005e891481d70b4224f
            "metadata": {
                "azdata_cell_guid": "ac546c59-6cc2-47f1-8b71-daeb61c6475c",
                "language": "python"
            },
            "outputs": [
                {
                    "name": "stdout",
                    "output_type": "stream",
                    "text": [
                        "[2, 3, 4]\n",
                        "[0, 1, 2]\n",
                        "[3, 4, 5, 6]\n",
<<<<<<< HEAD
                        "[0, 2, 4, 6]\n",
=======
                        "[0, 1, 2, 3, 4, 5, 6]\n",
>>>>>>> a71e9c4f0218fff378410005e891481d70b4224f
                        "[6, 5, 4, 3, 2, 1, 0]\n"
                    ]
                }
            ],
            "source": [
                "numeros = [0, 1, 2, 3, 4, 5, 6]\n",
                "\n",
                "# Output: [2, 3, 4]\n",
<<<<<<< HEAD
                "\n",
                "print(numeros[2:5])\n",
                "\n",
                "print(numeros[0:3])\n",
                "\n",
                "print(numeros[3:7])\n",
                "\n",
                "print(numeros[::2])\n",
                "\n",
                "print(numeros[::-1])\n",
                "\n",
                "\n",
                "# Output: [0, 1, 2]\n",
                "\n",
                "\n",
                "# Output: [3, 4, 5, 6]\n",
                "\n",
                "\n",
                "# Output: [0, 2, 4, 6]\n",
                "\n",
                "\n",
                "# Output: [6, 5, 4, 3, 2, 1, 0]"
=======
                "print(numeros[2:5])\n",
                "\n",
                "# Output: [0, 1, 2]\n",
                "print(numeros[:3])\n",
                "\n",
                "# Output: [3, 4, 5, 6]\n",
                "print(numeros[3:])\n",
                "\n",
                "# Output: [0, 2, 4, 6]\n",
                "print(numeros[:])\n",
                "\n",
                "# Output: [6, 5, 4, 3, 2, 1, 0]\n",
                "print(numeros[::-1])"
>>>>>>> a71e9c4f0218fff378410005e891481d70b4224f
            ]
        },
        {
            "attachments": {},
            "cell_type": "markdown",
            "metadata": {
                "azdata_cell_guid": "90552ad9-627b-42bd-84b0-f87e15cfe087"
            },
            "source": [
                "### **5\\. Operaciones Básicas con Listas**\n",
                "\n",
                "### \n",
                "\n",
                "- **Concatenación:**"
            ]
        },
        {
            "cell_type": "code",
<<<<<<< HEAD
            "execution_count": 8,
=======
            "execution_count": 1,
>>>>>>> a71e9c4f0218fff378410005e891481d70b4224f
            "metadata": {
                "azdata_cell_guid": "90b5ee62-7483-4012-88a1-415f1716cb3e",
                "language": "python"
            },
            "outputs": [
                {
                    "name": "stdout",
                    "output_type": "stream",
                    "text": [
                        "[1, 2, 3, 4, 5, 6]\n"
                    ]
                }
            ],
            "source": [
                "lista1 = [1, 2, 3]\n",
                "lista2 = [4, 5, 6]\n",
                "\n",
<<<<<<< HEAD
                "lista_nueva = lista1 + lista2\n",
                "print(lista_nueva)\n",
=======
                "lista_nueva = lista1 + lista2 \n",
                "print(lista_nueva)\n",
                "\n",
>>>>>>> a71e9c4f0218fff378410005e891481d70b4224f
                "#Concatenar las dos listas"
            ]
        },
        {
            "attachments": {},
            "cell_type": "markdown",
            "metadata": {
                "azdata_cell_guid": "912eadcc-91f2-4468-9b5a-16d0bc78cde0",
                "language": "python"
            },
            "source": [
                "- **Repetición:**"
            ]
        },
        {
            "cell_type": "code",
<<<<<<< HEAD
            "execution_count": null,
=======
            "execution_count": 3,
>>>>>>> a71e9c4f0218fff378410005e891481d70b4224f
            "metadata": {
                "azdata_cell_guid": "b5433f45-d0e6-41bf-9115-d70097905500",
                "language": "python"
            },
            "outputs": [
                {
                    "name": "stdout",
                    "output_type": "stream",
                    "text": [
<<<<<<< HEAD
                        "['cris', 'danny', 'josue', 'cris', 'danny', 'josue', 'cris', 'danny', 'josue']\n"
=======
                        "['Cris', 'Danny', 'Josue', 'Cris', 'Danny', 'Josue', 'Cris', 'Danny', 'Josue']\n"
>>>>>>> a71e9c4f0218fff378410005e891481d70b4224f
                    ]
                }
            ],
            "source": [
                "#Repetir la lista1 tres veces\n",
<<<<<<< HEAD
                "\n",
                "estudiantes = ['cris','danny','josue']\n",
=======
                "estudiantes = ['Cris','Danny','Josue']\n",
>>>>>>> a71e9c4f0218fff378410005e891481d70b4224f
                "print(estudiantes * 3)"
            ]
        },
        {
            "attachments": {},
            "cell_type": "markdown",
            "metadata": {
                "azdata_cell_guid": "a1bffa0c-75b2-4adf-84c7-ea247d6d226a",
                "language": "python"
            },
            "source": [
                "### **6\\. Métodos Comunes de Listas**\n",
                "\n",
                "1. **Agregar Elementos:**\n",
                "    \n",
                "- **append(elemento):** Añade un elemento al final."
            ]
        },
        {
            "cell_type": "code",
<<<<<<< HEAD
            "execution_count": 10,
=======
            "execution_count": 4,
>>>>>>> a71e9c4f0218fff378410005e891481d70b4224f
            "metadata": {
                "azdata_cell_guid": "a08acaf0-4336-416b-b901-a7e88f898efc",
                "language": "python"
            },
            "outputs": [
                {
                    "name": "stdout",
                    "output_type": "stream",
                    "text": [
<<<<<<< HEAD
                        "['cris', 'danny', 'josue']\n",
                        "['cris', 'danny', 'josue', 'derian']\n"
=======
                        "['Cris', 'Danny', 'Josue']\n",
                        "['Cris', 'Danny', 'Josue', 'Derian']\n"
>>>>>>> a71e9c4f0218fff378410005e891481d70b4224f
                    ]
                }
            ],
            "source": [
                "#Agregar una nuevo elemento\n",
<<<<<<< HEAD
                "estudiantes = ['cris','danny','josue']\n",
                "\n",
                "print(estudiantes)\n",
                "estudiantes.append('derian')\n",
                "print(estudiantes)\n",
                "\n",
                "\n",
                "\n"
=======
                "estudiantes = ['Cris','Danny','Josue']\n",
                "print(estudiantes)\n",
                "\n",
                "estudiantes.append('Derian')\n",
                "print(estudiantes)"
>>>>>>> a71e9c4f0218fff378410005e891481d70b4224f
            ]
        },
        {
            "attachments": {},
            "cell_type": "markdown",
            "metadata": {
                "azdata_cell_guid": "1d0f59c8-cf18-4eee-9bcd-ed678e4b8a80",
                "language": "python"
            },
            "source": [
                "- **extend(iterable):** Extiende la lista con elementos de un iterable."
            ]
        },
        {
            "cell_type": "code",
<<<<<<< HEAD
            "execution_count": 11,
=======
            "execution_count": 5,
>>>>>>> a71e9c4f0218fff378410005e891481d70b4224f
            "metadata": {
                "azdata_cell_guid": "ad4cd691-47dd-4b8a-a62c-5e2c5894c9c5",
                "language": "python"
            },
            "outputs": [
                {
                    "name": "stdout",
                    "output_type": "stream",
                    "text": [
<<<<<<< HEAD
                        "['cris', 'danny', 'josue', 'derian']\n",
                        "['cris', 'danny', 'josue', 'derian', 'leonardo', 'jimena']\n"
=======
                        "['Cris', 'Danny', 'Josue', 'Derian']\n",
                        "['Cris', 'Danny', 'Josue', 'Derian', 'Leonardo', 'Jimena']\n"
>>>>>>> a71e9c4f0218fff378410005e891481d70b4224f
                    ]
                }
            ],
            "source": [
                "#Agregar dos elementos mas a la lista\n",
                "print(estudiantes)\n",
<<<<<<< HEAD
                "traslados = ['leonardo','jimena']\n",
                "estudiantes.extend(traslados)\n",
                "print(estudiantes)  "
=======
                "traslados = ['Leonardo','Jimena']\n",
                "\n",
                "estudiantes.extend(traslados)\n",
                "print(estudiantes)"
>>>>>>> a71e9c4f0218fff378410005e891481d70b4224f
            ]
        },
        {
            "attachments": {},
            "cell_type": "markdown",
            "metadata": {
                "azdata_cell_guid": "3d999463-d09f-4447-b4be-b038ed530f03",
                "language": "python"
            },
            "source": [
                "- **insert(índice, elemento):** Inserta un elemento en una posición específica."
            ]
        },
        {
            "cell_type": "code",
<<<<<<< HEAD
            "execution_count": 12,
=======
            "execution_count": 6,
>>>>>>> a71e9c4f0218fff378410005e891481d70b4224f
            "metadata": {
                "azdata_cell_guid": "b0b48116-a1cd-43a0-9987-75e9c99423ad",
                "language": "python"
            },
            "outputs": [
                {
                    "name": "stdout",
                    "output_type": "stream",
                    "text": [
<<<<<<< HEAD
                        "['andres', 'cris', 'danny', 'josue']\n"
=======
                        "['Andres', 'Cris', 'Danny', 'Josue']\n"
>>>>>>> a71e9c4f0218fff378410005e891481d70b4224f
                    ]
                }
            ],
            "source": [
                "#Insertar en un posición especifica 1\n",
<<<<<<< HEAD
                "estudiantes = ['cris','danny','josue']\n",
                "estudiantes.insert(0,'andres')\n",
=======
                "estudiantes = ['Cris','Danny','Josue']\n",
                "\n",
                "estudiantes.insert(0,'Andres')\n",
>>>>>>> a71e9c4f0218fff378410005e891481d70b4224f
                "print(estudiantes)"
            ]
        },
        {
            "attachments": {},
            "cell_type": "markdown",
            "metadata": {
                "azdata_cell_guid": "b72219b2-85ec-48de-a0d3-d2fb2acae839",
                "language": "python"
            },
            "source": [
                "**2\\. Eliminar Elementos:**\n",
                "\n",
                "- **remove(elemento):** Elimina el primer elemento con el valor especificado."
            ]
        },
        {
            "cell_type": "code",
<<<<<<< HEAD
            "execution_count": 13,
=======
            "execution_count": 7,
>>>>>>> a71e9c4f0218fff378410005e891481d70b4224f
            "metadata": {
                "azdata_cell_guid": "76056d32-857e-402e-a413-b68436e450b9",
                "language": "python"
            },
            "outputs": [
                {
                    "name": "stdout",
                    "output_type": "stream",
                    "text": [
<<<<<<< HEAD
                        "['andres', 'cris', 'danny', 'josue']\n",
                        "['cris', 'danny', 'josue']\n"
=======
                        "['Andres', 'Cris', 'Danny', 'Josue']\n",
                        "['Cris', 'Danny', 'Josue']\n"
>>>>>>> a71e9c4f0218fff378410005e891481d70b4224f
                    ]
                }
            ],
            "source": [
                "print(estudiantes)\n",
<<<<<<< HEAD
                "estudiantes.remove('andres')\n",
=======
                "estudiantes.remove('Andres')\n",
>>>>>>> a71e9c4f0218fff378410005e891481d70b4224f
                "print(estudiantes)"
            ]
        },
        {
            "attachments": {},
            "cell_type": "markdown",
            "metadata": {
                "azdata_cell_guid": "fabd778a-c197-458f-839f-8fd3bfdb2d9b",
                "language": "python"
            },
            "source": [
                "**pop(índice):** Elimina y devuelve el elemento en el índice especificado."
            ]
        },
        {
            "cell_type": "code",
<<<<<<< HEAD
            "execution_count": null,
=======
            "execution_count": 1,
>>>>>>> a71e9c4f0218fff378410005e891481d70b4224f
            "metadata": {
                "azdata_cell_guid": "28a29944-e61c-4257-8440-db41702ecf27",
                "language": "python"
            },
<<<<<<< HEAD
            "outputs": [],
            "source": []
=======
            "outputs": [
                {
                    "ename": "NameError",
                    "evalue": "name 'estudiantes' is not defined",
                    "output_type": "error",
                    "traceback": [
                        "\u001b[31m---------------------------------------------------------------------------\u001b[39m",
                        "\u001b[31mNameError\u001b[39m                                 Traceback (most recent call last)",
                        "\u001b[36mCell\u001b[39m\u001b[36m \u001b[39m\u001b[32mIn[1]\u001b[39m\u001b[32m, line 1\u001b[39m\n\u001b[32m----> \u001b[39m\u001b[32m1\u001b[39m \u001b[43mestudiantes\u001b[49m.pop(\u001b[32m1\u001b[39m)\n\u001b[32m      2\u001b[39m \u001b[38;5;28mprint\u001b[39m(estudiantes)\n",
                        "\u001b[31mNameError\u001b[39m: name 'estudiantes' is not defined"
                    ]
                }
            ],
            "source": [
                "estudiantes.pop(1)\n",
                "print(estudiantes)"
            ]
>>>>>>> a71e9c4f0218fff378410005e891481d70b4224f
        },
        {
            "attachments": {},
            "cell_type": "markdown",
            "metadata": {
                "azdata_cell_guid": "214e5d4b-48ef-4936-b3d7-67fc209b9413",
                "language": "python"
            },
            "source": [
                "- **clear():** Elimina todos los elementos de la lista."
            ]
        },
        {
            "cell_type": "code",
<<<<<<< HEAD
            "execution_count": 14,
=======
            "execution_count": 11,
>>>>>>> a71e9c4f0218fff378410005e891481d70b4224f
            "metadata": {
                "azdata_cell_guid": "99039b69-3193-4ff5-b185-883d0c198f42",
                "language": "python"
            },
            "outputs": [
                {
                    "name": "stdout",
                    "output_type": "stream",
                    "text": [
                        "[]\n"
                    ]
                }
            ],
            "source": [
                "estudiantes.clear()\n",
                "print(estudiantes)"
            ]
        },
        {
            "attachments": {},
            "cell_type": "markdown",
            "metadata": {
                "azdata_cell_guid": "0ab9e912-56b9-4d97-a531-6a1d9be1236a",
                "language": "python"
            },
            "source": [
                "3. **Ordenar y Revertir:**\n",
                "\n",
                "- **sort():** Ordena la lista en orden ascendente."
            ]
        },
        {
            "cell_type": "code",
<<<<<<< HEAD
            "execution_count": 15,
=======
            "execution_count": 2,
>>>>>>> a71e9c4f0218fff378410005e891481d70b4224f
            "metadata": {
                "azdata_cell_guid": "143cb071-e30e-4111-8584-d5165cb0277c",
                "language": "python"
            },
            "outputs": [
                {
                    "name": "stdout",
                    "output_type": "stream",
                    "text": [
                        "[1, 1, 3, 4, 5, 9]\n"
                    ]
                }
            ],
            "source": [
                "numeros = [3, 1, 4, 1, 5, 9]\n",
<<<<<<< HEAD
                "\n",
                "numeros.sort()\n",
                "print(numeros)  \n"
=======
                "numeros.sort()\n",
                "print(numeros)"
>>>>>>> a71e9c4f0218fff378410005e891481d70b4224f
            ]
        },
        {
            "attachments": {},
            "cell_type": "markdown",
            "metadata": {
                "azdata_cell_guid": "2a2de66a-3b2f-42bd-8acd-8af6251e89a8",
                "language": "python"
            },
            "source": [
                "**reverse():** <span style=\"color: var(--vscode-foreground);\"> Invierte el orden de la lista.</span>"
            ]
        },
        {
            "cell_type": "code",
<<<<<<< HEAD
            "execution_count": 16,
=======
            "execution_count": 3,
>>>>>>> a71e9c4f0218fff378410005e891481d70b4224f
            "metadata": {
                "azdata_cell_guid": "91b18583-e7da-4457-8676-965551158de8",
                "language": "python",
                "tags": []
            },
            "outputs": [
                {
                    "name": "stdout",
                    "output_type": "stream",
                    "text": [
                        "[9, 5, 4, 3, 1, 1]\n"
                    ]
                }
            ],
            "source": [
                "# Output: [9, 5, 4, 3, 1, 1]\n",
                "numeros.reverse()\n",
<<<<<<< HEAD
                "print(numeros)\n"
=======
                "print(numeros)"
>>>>>>> a71e9c4f0218fff378410005e891481d70b4224f
            ]
        },
        {
            "attachments": {},
            "cell_type": "markdown",
            "metadata": {
                "azdata_cell_guid": "872eb471-9968-4c9d-9b34-f48d30e2bb52",
                "language": "python"
            },
            "source": [
                "### **Iteración sobre Listas**\n",
                "\n",
                "- **Usando un Bucle `for`:**"
            ]
        },
        {
            "cell_type": "code",
<<<<<<< HEAD
            "execution_count": 27,
=======
            "execution_count": 8,
>>>>>>> a71e9c4f0218fff378410005e891481d70b4224f
            "metadata": {
                "azdata_cell_guid": "65b98600-e0c2-4a62-9d0e-a51734e898fd",
                "language": "python"
            },
            "outputs": [
                {
                    "name": "stdout",
                    "output_type": "stream",
                    "text": [
<<<<<<< HEAD
                        "hola cris, usted esta en progra\n",
                        "hola danny, usted esta en progra\n",
                        "hola josue, usted esta en progra\n",
=======
                        "holaCris,usted es progra\n",
                        "['CRIS', 'DANNY', 'JOSUE']\n",
                        "holaDanny,usted es progra\n",
                        "['CRIS', 'DANNY', 'JOSUE']\n",
                        "holaJosue,usted es progra\n",
>>>>>>> a71e9c4f0218fff378410005e891481d70b4224f
                        "['CRIS', 'DANNY', 'JOSUE']\n"
                    ]
                }
            ],
            "source": [
<<<<<<< HEAD
                "#['manzana', 'banana', 'cereza']:\n",
                "estudiantes = ['cris','danny','josue']\n",
                "for est in estudiantes:\n",
                "    print(f'hola {est}, usted esta en progra')\n",
                "    \n",
                "\n",
                "#Avanzado\n",
                "est_mayuscula = [est.upper() for est in estudiantes]\n",
                "print(est_mayuscula)\n",
                " \n"
=======
                "estudiantes = ['Cris','Danny','Josue']\n",
                "\n",
                "for est in estudiantes:\n",
                "    print(f'hola{est},usted es progra') \n",
                "    \n",
                "    \n",
                "    #avanzado\n",
                "    est_mayuscula = [est.upper() for est in estudiantes]\n",
                "    print(est_mayuscula)\n"
>>>>>>> a71e9c4f0218fff378410005e891481d70b4224f
            ]
        },
        {
            "cell_type": "code",
            "execution_count": null,
            "metadata": {
                "azdata_cell_guid": "27388f2a-2d5a-4371-bcff-d151d7ddd554",
                "language": "python"
            },
            "outputs": [],
            "source": [
                "nombres = ['ana', 'luis', 'maría']\n",
<<<<<<< HEAD
=======
                "\n",
>>>>>>> a71e9c4f0218fff378410005e891481d70b4224f
                "\n"
            ]
        },
        {
            "attachments": {},
            "cell_type": "markdown",
            "metadata": {
                "azdata_cell_guid": "d181a09f-a34a-4842-8dcd-6fdbd3d43605",
                "language": "python"
            },
            "source": [
                "- **Usando un Bucle `while`:**"
            ]
        },
        {
            "cell_type": "code",
<<<<<<< HEAD
            "execution_count": 30,
=======
            "execution_count": 9,
>>>>>>> a71e9c4f0218fff378410005e891481d70b4224f
            "metadata": {
                "azdata_cell_guid": "eb35731a-c18e-484a-81b0-bae745e84bc7",
                "language": "python"
            },
            "outputs": [
                {
                    "name": "stdout",
                    "output_type": "stream",
                    "text": [
<<<<<<< HEAD
                        "no puede ingresar regrese al bar el peroximo año\n",
                        "no puede ingresar regrese al bar el peroximo año\n",
                        "no puede ingresar regrese al bar el peroximo año\n",
                        "no puede ingresar regrese al bar el peroximo año\n",
                        "no puede ingresar regrese al bar el peroximo año\n",
                        "no puede ingresar regrese al bar el peroximo año\n",
                        "no puede ingresar regrese al bar el peroximo año\n",
                        "no puede ingresar regrese al bar el peroximo año\n",
                        "no puede ingresar regrese al bar el peroximo año\n",
                        "no puede ingresar regrese al bar el peroximo año\n",
                        "no puede ingresar regrese al bar el peroximo año\n",
                        "no puede ingresar regrese al bar el peroximo año\n",
                        "no puede ingresar regrese al bar el peroximo año\n",
                        "no puede ingresar regrese al bar el peroximo año\n",
                        "no puede ingresar regrese al bar el peroximo año\n",
                        "no puede ingresar regrese al bar el peroximo año\n",
                        "no puede ingresar regrese al bar el peroximo año\n"
=======
                        "No puede ingresar al bar, regresa el proximo año\n",
                        "No puede ingresar al bar, regresa el proximo año\n",
                        "No puede ingresar al bar, regresa el proximo año\n",
                        "No puede ingresar al bar, regresa el proximo año\n",
                        "No puede ingresar al bar, regresa el proximo año\n",
                        "No puede ingresar al bar, regresa el proximo año\n",
                        "No puede ingresar al bar, regresa el proximo año\n",
                        "No puede ingresar al bar, regresa el proximo año\n",
                        "No puede ingresar al bar, regresa el proximo año\n",
                        "No puede ingresar al bar, regresa el proximo año\n",
                        "No puede ingresar al bar, regresa el proximo año\n",
                        "No puede ingresar al bar, regresa el proximo año\n",
                        "No puede ingresar al bar, regresa el proximo año\n",
                        "No puede ingresar al bar, regresa el proximo año\n",
                        "No puede ingresar al bar, regresa el proximo año\n",
                        "No puede ingresar al bar, regresa el proximo año\n",
                        "No puede ingresar al bar, regresa el proximo año\n"
>>>>>>> a71e9c4f0218fff378410005e891481d70b4224f
                    ]
                }
            ],
            "source": [
<<<<<<< HEAD
                "edad = 1\n",
                "while edad <= 17:\n",
                "    if edad <= 17:\n",
                "        print('no puede ingresar regrese al bar el peroximo año')\n",
                "        edad += 1\n",
                "\n"
=======
                "edad = 1 \n",
                "while edad <= 17: \n",
                "    if edad <=17: \n",
                "        print('No puede ingresar al bar, regresa el proximo año')\n",
                "        edad += 1 \n",
                "    \n"
>>>>>>> a71e9c4f0218fff378410005e891481d70b4224f
            ]
        },
        {
            "cell_type": "code",
<<<<<<< HEAD
            "execution_count": 31,
=======
            "execution_count": 14,
>>>>>>> a71e9c4f0218fff378410005e891481d70b4224f
            "metadata": {},
            "outputs": [
                {
                    "name": "stdout",
                    "output_type": "stream",
                    "text": [
<<<<<<< HEAD
                        "cris\n",
                        "danny\n",
                        "josue\n"
=======
                        "Cris\n",
                        "Danny\n",
                        "Josue\n"
>>>>>>> a71e9c4f0218fff378410005e891481d70b4224f
                    ]
                }
            ],
            "source": [
<<<<<<< HEAD
                "estudiantes = ['cris','danny','josue']\n",
                "i = 0\n",
                "tamaño = len(estudiantes)\n",
                "while i < tamaño:\n",
                "    print(estudiantes[i])\n",
                "    i += 1 "
=======
                "estudiantes = ['Cris','Danny','Josue']\n",
                "i = 0\n",
                "tamaño = len(estudiantes) #cantidad de elementos de la lista\n",
                "while i < tamaño:\n",
                "    print(estudiantes[i])\n",
                "    i +=1"
>>>>>>> a71e9c4f0218fff378410005e891481d70b4224f
            ]
        },
        {
            "attachments": {},
            "cell_type": "markdown",
            "metadata": {
                "azdata_cell_guid": "83df706e-8351-4880-82f4-cecda108ac1f",
                "language": "python"
            },
            "source": [
                "- **Comprobación de Pertenencia:**"
            ]
        },
        {
            "cell_type": "code",
<<<<<<< HEAD
            "execution_count": 34,
=======
            "execution_count": null,
>>>>>>> a71e9c4f0218fff378410005e891481d70b4224f
            "metadata": {
                "azdata_cell_guid": "8a1f9ad9-0dc5-4291-a936-d15d9caa93ca",
                "language": "python"
            },
            "outputs": [
                {
                    "name": "stdout",
                    "output_type": "stream",
                    "text": [
<<<<<<< HEAD
                        "es estudiante de progra\n"
=======
                        "No es estudiante de progra\n"
>>>>>>> a71e9c4f0218fff378410005e891481d70b4224f
                    ]
                }
            ],
            "source": [
<<<<<<< HEAD
                "estudiantes = ['cris','danny','josue', 'derian', ]\n",
                "estudiante = input('ingrese el nombre del estudiante: ')\n",
                "if(estudiante  in estudiantes):\n",
                "    print('es estudiante de progra')\n",
                "else:\n",
                "    print('no es estudiante de progra') "
            ]
        },
        {
=======
                "estudiantes = ['Cris','Danny','Josue','Derian']\n",
                "\n",
                "estudiante = input('Ingrese el nombre del estudiante:')\n",
                "\n",
                "\n",
                "if ('Jimena' in estudiantes):\n",
                "     print('Es estudiante de progra')\n",
                "     \n",
                "else:\n",
                "    \n",
                "    print('No es estudiante de progra')\n",
                "\n",
                "     "
            ]
        },
        {
            "cell_type": "code",
            "execution_count": null,
            "metadata": {},
            "outputs": [],
            "source": []
        },
        {
            "cell_type": "code",
            "execution_count": null,
            "metadata": {},
            "outputs": [],
            "source": []
        },
        {
>>>>>>> a71e9c4f0218fff378410005e891481d70b4224f
            "attachments": {},
            "cell_type": "markdown",
            "metadata": {
                "azdata_cell_guid": "7a387c19-3988-4cdd-a37b-33becdadbb46"
            },
            "source": [
                "### **7\\. Copiando Listas**\n",
                "\n",
                "- **Asignación Directa (Referencias):**\n",
                "    \n",
                "\n",
                "Ambas variables apuntan a la misma lista en memoria."
            ]
        },
        {
            "cell_type": "code",
            "execution_count": null,
            "metadata": {
                "azdata_cell_guid": "12496b36-600f-4f59-8607-58eafbbac4e5",
                "language": "python"
            },
            "outputs": [],
            "source": [
                "lista_original = [1, 2, 3]\n",
                "lista_copia = lista_original\n",
                "lista_copia.append(4)\n",
                "print(lista_original)  # Output: [1, 2, 3, 4]"
            ]
        },
        {
<<<<<<< HEAD
            "cell_type": "code",
            "execution_count": 35,
            "metadata": {},
            "outputs": [
                {
                    "name": "stdout",
                    "output_type": "stream",
                    "text": [
                        "100\n",
                        "79\n",
                        "537\n",
                        "6\n",
                        "89.5\n"
                    ]
                }
            ],
            "source": [
                "notas = [98,83,79,92,85,100]\n",
                "print(max(notas))  # Output: 100\n",
                "print(min(notas))  # Output: 79\n",
                "\n",
                "#suma de notas\n",
                "print(sum(notas))  # Output: 537\n",
                "\n",
                "#cantidad de notas\n",
                "print(len(notas))  # Output: 6\n",
                "\n",
                "promedio = sum(notas) / len(notas)\n",
                "print(promedio)  # Output: 89.5"
            ]
        },
        {
=======
>>>>>>> a71e9c4f0218fff378410005e891481d70b4224f
            "attachments": {},
            "cell_type": "markdown",
            "metadata": {
                "azdata_cell_guid": "cf248c2d-d39b-4046-ad72-f58b181e000e",
                "language": "python"
            },
            "source": [
                "- **Copia Superficial:**\n",
                "\n",
                "Se crea una nueva lista, pero si contiene objetos mutables, estos no se copian profundamente."
            ]
        },
        {
            "cell_type": "code",
            "execution_count": null,
            "metadata": {
                "azdata_cell_guid": "48c67f08-728c-4da5-9dac-10a87df4b875",
                "language": "python",
                "tags": []
            },
            "outputs": [],
            "source": [
                "lista_copia = lista_original.copy()\n",
                "# O\n",
                "lista_copia = lista_original[:]\n"
            ]
        },
        {
            "attachments": {},
            "cell_type": "markdown",
            "metadata": {
                "azdata_cell_guid": "348e33ef-87ca-44e8-b013-304353b0c9b8",
                "language": "python"
            },
            "source": [
                "- **Copia Profunda:**\n",
                "\n",
                "Copia completamente independiente, incluso para objetos mutables anidados."
            ]
        },
        {
            "cell_type": "code",
            "execution_count": null,
            "metadata": {
                "azdata_cell_guid": "cfa4773a-f8cc-486e-9c9e-3610f6026c4c",
                "language": "python"
            },
            "outputs": [],
            "source": [
                "import copy\n",
                "lista_copia_profunda = copy.deepcopy(lista_original)\n"
            ]
        },
        {
            "attachments": {},
            "cell_type": "markdown",
            "metadata": {
                "azdata_cell_guid": "752f7af5-c4ff-40c2-b07c-2b601006c28d",
                "language": "python"
            },
            "source": [
                "### \n",
                "\n",
                "- **Listas Anidadas**\n",
                "\n",
                "Las listas pueden contener otras listas."
            ]
        },
        {
            "cell_type": "code",
            "execution_count": null,
            "metadata": {
                "azdata_cell_guid": "d510a921-a322-48da-a3aa-fe23d30fcc36",
                "language": "python"
            },
            "outputs": [],
            "source": [
                "lista_anidada = [[1, 2], [3, 4], [5, 6]]\n",
                "print(lista_anidada[1][0])  # Output: 3\n"
            ]
        },
        {
            "attachments": {},
            "cell_type": "markdown",
            "metadata": {
                "azdata_cell_guid": "0e8ba81c-d786-4eda-8549-651a813c1054",
                "language": "python"
            },
            "source": [
                "### **10. Funciones Integradas Útiles**\n",
                "\n",
                "numeros = \\[1, 2, 3, 4, 5, 6\\]\n",
                "\n",
                "- **len(lista):** Devuelve el número de elementos.\n",
                "    \n",
                "    ```python\n",
                "    print(len(numeros))  # Output: 6\n",
                "    ```\n",
                "    \n",
                "- **sum(lista):** Suma los elementos (si son numéricos).\n",
                "    \n",
                "   ```python\n",
                "    print(sum(numeros))  # Output: 21\n",
                "    ```\n",
                "    \n",
                "- **min(lista), max(lista):** Devuelve el valor mínimo y máximo.\n",
                "    \n",
                "     ```python\n",
                "    print(min(numeros))  # Output: 1print(max(numeros))  # Output: 6\n",
                "    \n",
                "    ```\n",
                "    \n",
                "\n",
                "### **Aplicaciones Prácticas de las Listas**"
            ]
        },
        {
            "cell_type": "code",
<<<<<<< HEAD
            "execution_count": null,
            "metadata": {},
            "outputs": [],
            "source": [
                "numeros = [1, 2, 3, 4, 5, 6]\n",
                "print(len(numeros))\n",
                "print(sum(numeros)) \n",
                "print(min(numeros)) "
=======
            "execution_count": 16,
            "metadata": {},
            "outputs": [
                {
                    "name": "stdout",
                    "output_type": "stream",
                    "text": [
                        "45\n",
                        "100\n",
                        "491\n",
                        "6\n",
                        "promedio de notas 81.83333333333333\n"
                    ]
                }
            ],
            "source": [
                "notas = [98,83,70,45,95,100]\n",
                "\n",
                "print(min(notas))\n",
                "\n",
                "print(max(notas))\n",
                "\n",
                "print(sum(notas))\n",
                "\n",
                "print(len(notas))\n",
                "\n",
                "promedio = sum(notas) / len(notas)\n",
                "print ('promedio de notas', promedio)"
>>>>>>> a71e9c4f0218fff378410005e891481d70b4224f
            ]
        },
        {
            "attachments": {},
            "cell_type": "markdown",
            "metadata": {
                "azdata_cell_guid": "c24a4bae-ea4c-485d-8067-d5e07afb3435",
                "language": "python"
            },
            "source": [
                "# **Actividad Interactiva: Análisis de Datos Simple con Listas**\n",
                "\n",
                "**Objetivo:** Aplicar los conceptos aprendidos sobre listas para realizar un análisis de datos sencillo.\n",
                "\n",
                "**Descripción de la Actividad:**\n",
                "\n",
                "Trabajaremos con una lista de temperaturas registradas durante una semana y realizarán varias operaciones para extraer información útil.\n",
                "\n",
                "**Pasos de la Actividad:**\n",
                "\n",
                "1. **Creación de la Lista de Datos:**"
            ]
        },
        {
            "cell_type": "code",
<<<<<<< HEAD
            "execution_count": 38,
=======
            "execution_count": null,
>>>>>>> a71e9c4f0218fff378410005e891481d70b4224f
            "metadata": {
                "azdata_cell_guid": "9632a0a3-3979-4a34-b08b-82179de35bc0",
                "language": "python"
            },
            "outputs": [],
            "source": [
                "#               Lu  Ma  Mi  Ju  Vi  Sa  Do\n",
                "temperaturas = [22, 24, 19, 23, 25, 20, 21]"
            ]
        },
        {
            "attachments": {},
            "cell_type": "markdown",
            "metadata": {
                "azdata_cell_guid": "53602225-9571-4b97-af9b-0921d1a8b986",
                "language": "python"
            },
            "source": [
                "2. **Calcular la Temperatura Media de la Semana:**"
            ]
        },
        {
            "cell_type": "code",
<<<<<<< HEAD
            "execution_count": 39,
=======
            "execution_count": 50,
>>>>>>> a71e9c4f0218fff378410005e891481d70b4224f
            "metadata": {
                "azdata_cell_guid": "07d09035-3640-4277-9d81-c086f12e07d6",
                "language": "python"
            },
            "outputs": [
                {
                    "name": "stdout",
                    "output_type": "stream",
                    "text": [
<<<<<<< HEAD
                        "22.0\n"
=======
                        "[22, 24, 19, 23, 25, 20, 21]\n",
                        "[22, 24, 19, 23, 25, 20, 21, 18]\n"
>>>>>>> a71e9c4f0218fff378410005e891481d70b4224f
                    ]
                }
            ],
            "source": [
<<<<<<< HEAD
                "\n",
                "promedio_temperaturas = sum(temperaturas) / len(temperaturas)\n",
                "print(promedio_temperaturas)"
=======
                "temperaturas = [22, 24, 19, 23, 25, 20, 21]\n",
                "print (temperaturas)\n",
                "extra = [18]\n",
                "temperaturas.extend(extra)\n",
                "print(temperaturas)\n"
>>>>>>> a71e9c4f0218fff378410005e891481d70b4224f
            ]
        },
        {
            "attachments": {},
            "cell_type": "markdown",
            "metadata": {
                "azdata_cell_guid": "1516e477-febc-478a-b4dc-faca948b9b44",
                "language": "python"
            },
            "source": [
                "3. **Encontrar la Temperatura Máxima y Mínima:**"
            ]
        },
        {
            "cell_type": "code",
<<<<<<< HEAD
            "execution_count": 43,
=======
            "execution_count": 51,
>>>>>>> a71e9c4f0218fff378410005e891481d70b4224f
            "metadata": {
                "azdata_cell_guid": "fa450303-5f00-4c59-a3c8-ace9daea9196",
                "language": "python"
            },
            "outputs": [
                {
                    "name": "stdout",
                    "output_type": "stream",
                    "text": [
<<<<<<< HEAD
                        "25\n",
                        "19\n",
                        "la temperatura minima es: 19\n",
                        "la temperatura maxima es: 25\n"
=======
                        "154\n",
                        "7\n",
                        "la media aritmetica es de:  22.0\n"
>>>>>>> a71e9c4f0218fff378410005e891481d70b4224f
                    ]
                }
            ],
            "source": [
<<<<<<< HEAD
                "print(max(temperaturas))  # Output: 25\n",
                "print(min(temperaturas))  # Output: 19\n",
                "\n",
                "print('la temperatura minima es:', min(temperaturas))\n",
                "print('la temperatura maxima es:', max(temperaturas))\n",
                "\n"
=======
                "temperaturas = [22, 24, 19, 23, 25, 20, 21]\n",
                "print(sum(temperaturas))\n",
                "print(len(temperaturas))\n",
                "\n",
                "promedio = sum(temperaturas) / len(temperaturas)\n",
                "print('la media aritmetica es de: ',promedio)"
>>>>>>> a71e9c4f0218fff378410005e891481d70b4224f
            ]
        },
        {
            "attachments": {},
            "cell_type": "markdown",
            "metadata": {
                "azdata_cell_guid": "af7ad57b-4cdd-444f-a6bf-b3cb9b531c7e",
                "language": ""
            },
            "source": [
                "4. **Días con Temperatura por Encima de la Media:**"
            ]
        },
        {
            "cell_type": "code",
<<<<<<< HEAD
            "execution_count": 46,
=======
            "execution_count": 37,
>>>>>>> a71e9c4f0218fff378410005e891481d70b4224f
            "metadata": {
                "azdata_cell_guid": "9e4ad645-b57a-46c6-9a9b-4accd0fbab0c",
                "language": "python"
            },
            "outputs": [
                {
                    "name": "stdout",
                    "output_type": "stream",
                    "text": [
<<<<<<< HEAD
                        "la temperatura 22 es igual a 22\n",
                        "la temperatura 24 es mayor a 22\n",
                        "la temperatura 19 es menor  a 22\n",
                        "la temperatura 23 es mayor a 22\n",
                        "la temperatura 25 es mayor a 22\n",
                        "la temperatura 20 es menor  a 22\n",
                        "la temperatura 21 es menor  a 22\n"
=======
                        "temperatura por encima de la media\n",
                        "19\n",
                        "20\n",
                        "21\n"
>>>>>>> a71e9c4f0218fff378410005e891481d70b4224f
                    ]
                }
            ],
            "source": [
                "temperaturas = [22, 24, 19, 23, 25, 20, 21]\n",
<<<<<<< HEAD
                "\n",
                "for temp in temperaturas:\n",
                "    if temp > 22:\n",
                "        print(f'la temperatura {temp} es mayor a 22')\n",
                "    elif temp == 22:\n",
                "        print(f'la temperatura {temp} es igual a 22')\n",
                "    else:\n",
                "        print(f'la temperatura {temp} es menor  a 22')\n"
=======
                "media = 22.0\n",
                "\n",
                "print('temperatura por encima de la media')\n",
                "for temp in temperaturas:\n",
                "    if temp < media:\n",
                "     print(temp)\n"
>>>>>>> a71e9c4f0218fff378410005e891481d70b4224f
            ]
        },
        {
            "attachments": {},
            "cell_type": "markdown",
            "metadata": {
                "azdata_cell_guid": "a5cb67cf-7434-4871-82b6-ef58b167bb6e",
                "language": "python"
            },
            "source": [
                "5. **Modificar la Lista para Incluir una Nueva Temperatura y Recalcular:**\n",
                "\n",
                "- Agregar la temperatura del día extra:"
            ]
        },
        {
            "cell_type": "code",
<<<<<<< HEAD
            "execution_count": 47,
=======
            "execution_count": 48,
>>>>>>> a71e9c4f0218fff378410005e891481d70b4224f
            "metadata": {
                "azdata_cell_guid": "7ee71561-594c-4d97-b706-4f2a2bb63c2f",
                "language": "python"
            },
<<<<<<< HEAD
            "outputs": [
                {
                    "name": "stdout",
                    "output_type": "stream",
                    "text": [
                        "[22, 24, 19, 23, 25, 20, 21]\n",
                        "[22, 24, 19, 23, 25, 20, 21, 30]\n"
                    ]
                }
            ],
            "source": [
                "print(temperaturas)\n",
                "temperaturas.append(30)\n",
                "print(temperaturas)\n"
=======
            "outputs": [],
            "source": [
                "temperaturas = [22, 24, 19, 23, 25, 20, 21]\n",
                "                             \n"
>>>>>>> a71e9c4f0218fff378410005e891481d70b4224f
            ]
        },
        {
            "attachments": {},
            "cell_type": "markdown",
            "metadata": {
                "azdata_cell_guid": "c9ab22f0-6c9d-43d9-9c5c-12589b7e878e",
                "language": "python"
            },
            "source": [
                "- **Recalcular la temperatura media:**"
            ]
        },
        {
            "cell_type": "code",
            "execution_count": 49,
            "metadata": {
                "azdata_cell_guid": "2b9302b0-9e3d-4b31-9970-fe7888d6943b",
                "language": "python"
            },
<<<<<<< HEAD
            "outputs": [
                {
                    "name": "stdout",
                    "output_type": "stream",
                    "text": [
                        "23.0\n",
                        "el promrdio recalculado es: 23.0\n"
                    ]
                }
            ],
            "source": [
                "promedio_temperatura = sum(temperaturas) / len(temperaturas)\n",
                "print(promedio_temperatura)  # Output: 22.428571428571427\n",
                "print('el promrdio recalculado es:', promedio_temperatura)"
=======
            "outputs": [],
            "source": [
                "temperaturas = [22, 24, 19, 23, 25, 20, 21]\n",
                "             \n"
>>>>>>> a71e9c4f0218fff378410005e891481d70b4224f
            ]
        },
        {
            "attachments": {},
            "cell_type": "markdown",
            "metadata": {
                "azdata_cell_guid": "01af2113-4fe5-4822-8e15-0a5c4f07d330",
                "language": "python"
            },
            "source": [
                "6. **Ordenar las Temperaturas y Mostrar el Resultado:**"
            ]
        },
        {
            "cell_type": "code",
<<<<<<< HEAD
            "execution_count": 50,
=======
            "execution_count": 38,
>>>>>>> a71e9c4f0218fff378410005e891481d70b4224f
            "metadata": {
                "azdata_cell_guid": "b5678c84-09d7-43b3-b63c-b7473d31b781",
                "language": "python"
            },
            "outputs": [
                {
                    "name": "stdout",
                    "output_type": "stream",
                    "text": [
<<<<<<< HEAD
                        "[19, 20, 21, 22, 23, 24, 25, 30]\n"
=======
                        "[19, 20, 21, 22, 23, 24, 25]\n"
>>>>>>> a71e9c4f0218fff378410005e891481d70b4224f
                    ]
                }
            ],
            "source": [
<<<<<<< HEAD
                "temperaturas = [22, 24, 19, 23, 25, 20, 21, 30]\n",
                "temperaturas.sort()\n",
                "print(temperaturas)  # Output: [19, 20, 21,"
=======
                "temperaturas = [22, 24, 19, 23, 25, 20, 21]\n",
                "temperaturas.sort()\n",
                "print(temperaturas)"
>>>>>>> a71e9c4f0218fff378410005e891481d70b4224f
            ]
        },
        {
            "attachments": {},
            "cell_type": "markdown",
            "metadata": {
                "azdata_cell_guid": "6016e3d3-8a04-4dd4-a69a-31ebd14bc46c",
                "language": "python"
            },
            "source": [
                "**Extensión de la Actividad:**\n",
                "\n",
                "- **Visualización Simple:**\n",
                "    \n",
                "    Los estudiantes pueden crear un gráfico de las temperaturas usando `matplotlib` (si se ha visto previamente)."
            ]
        },
        {
            "cell_type": "code",
<<<<<<< HEAD
            "execution_count": 52,
=======
            "execution_count": null,
>>>>>>> a71e9c4f0218fff378410005e891481d70b4224f
            "metadata": {
                "azdata_cell_guid": "cea0661b-608d-4073-8286-960365e894e8",
                "language": ""
            },
<<<<<<< HEAD
            "outputs": [
                {
                    "name": "stdout",
                    "output_type": "stream",
                    "text": [
                        "^C\n",
                        "Note: you may need to restart the kernel to use updated packages.\n"
                    ]
                },
                {
                    "data": {
                        "image/png": "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",
                        "text/plain": [
                            "<Figure size 640x480 with 1 Axes>"
                        ]
                    },
                    "metadata": {},
                    "output_type": "display_data"
                },
                {
                    "name": "stdout",
                    "output_type": "stream",
                    "text": [
                        "Collecting matplotlib\n",
                        "  Downloading matplotlib-3.10.5-cp313-cp313-win_amd64.whl.metadata (11 kB)\n",
                        "Collecting contourpy>=1.0.1 (from matplotlib)\n",
                        "  Downloading contourpy-1.3.3-cp313-cp313-win_amd64.whl.metadata (5.5 kB)\n",
                        "Collecting cycler>=0.10 (from matplotlib)\n",
                        "  Downloading cycler-0.12.1-py3-none-any.whl.metadata (3.8 kB)\n",
                        "Collecting fonttools>=4.22.0 (from matplotlib)\n",
                        "  Downloading fonttools-4.59.0-cp313-cp313-win_amd64.whl.metadata (110 kB)\n",
                        "Collecting kiwisolver>=1.3.1 (from matplotlib)\n",
                        "  Downloading kiwisolver-1.4.8-cp313-cp313-win_amd64.whl.metadata (6.3 kB)\n",
                        "Collecting numpy>=1.23 (from matplotlib)\n",
                        "  Downloading numpy-2.3.2-cp313-cp313-win_amd64.whl.metadata (60 kB)\n",
                        "Requirement already satisfied: packaging>=20.0 in c:\\users\\redes4\\appdata\\roaming\\python\\python313\\site-packages (from matplotlib) (25.0)\n",
                        "Collecting pillow>=8 (from matplotlib)\n",
                        "  Downloading pillow-11.3.0-cp313-cp313-win_amd64.whl.metadata (9.2 kB)\n",
                        "Collecting pyparsing>=2.3.1 (from matplotlib)\n",
                        "  Downloading pyparsing-3.2.3-py3-none-any.whl.metadata (5.0 kB)\n",
                        "Requirement already satisfied: python-dateutil>=2.7 in c:\\users\\redes4\\appdata\\roaming\\python\\python313\\site-packages (from matplotlib) (2.9.0.post0)\n",
                        "Requirement already satisfied: six>=1.5 in c:\\users\\redes4\\appdata\\roaming\\python\\python313\\site-packages (from python-dateutil>=2.7->matplotlib) (1.17.0)\n",
                        "Downloading matplotlib-3.10.5-cp313-cp313-win_amd64.whl (8.1 MB)\n",
                        "   ---------------------------------------- 0.0/8.1 MB ? eta -:--:--\n",
                        "   -- ------------------------------------- 0.5/8.1 MB 3.1 MB/s eta 0:00:03\n",
                        "   ------ --------------------------------- 1.3/8.1 MB 5.1 MB/s eta 0:00:02\n",
                        "   ---------------- ----------------------- 3.4/8.1 MB 6.6 MB/s eta 0:00:01\n",
                        "   --------------------------- ------------ 5.5/8.1 MB 7.6 MB/s eta 0:00:01\n",
                        "   ------------------------------------ --- 7.3/8.1 MB 7.7 MB/s eta 0:00:01\n",
                        "   ---------------------------------------- 8.1/8.1 MB 7.5 MB/s eta 0:00:00\n",
                        "Downloading contourpy-1.3.3-cp313-cp313-win_amd64.whl (226 kB)\n",
                        "Downloading cycler-0.12.1-py3-none-any.whl (8.3 kB)\n",
                        "Downloading fonttools-4.59.0-cp313-cp313-win_amd64.whl (2.2 MB)\n",
                        "   ---------------------------------------- 0.0/2.2 MB ? eta -:--:--\n",
                        "   ----------------------- ---------------- 1.3/2.2 MB 6.9 MB/s eta 0:00:01\n",
                        "   ---------------------------------------- 2.2/2.2 MB 6.8 MB/s eta 0:00:00\n",
                        "Downloading kiwisolver-1.4.8-cp313-cp313-win_amd64.whl (71 kB)\n",
                        "Downloading numpy-2.3.2-cp313-cp313-win_amd64.whl (12.8 MB)\n",
                        "   ---------------------------------------- 0.0/12.8 MB ? eta -:--:--\n",
                        "   ---- ----------------------------------- 1.3/12.8 MB 6.9 MB/s eta 0:00:02\n",
                        "   -------- ------------------------------- 2.6/12.8 MB 6.7 MB/s eta 0:00:02\n",
                        "   ------------ --------------------------- 3.9/12.8 MB 6.5 MB/s eta 0:00:02\n",
                        "   ----------------- ---------------------- 5.5/12.8 MB 6.8 MB/s eta 0:00:02\n",
                        "   ---------------------- ----------------- 7.1/12.8 MB 6.9 MB/s eta 0:00:01\n",
                        "   --------------------------- ------------ 8.7/12.8 MB 7.0 MB/s eta 0:00:01\n",
                        "   ------------------------------- -------- 10.2/12.8 MB 7.0 MB/s eta 0:00:01\n",
                        "   ------------------------------------ --- 11.8/12.8 MB 7.1 MB/s eta 0:00:01\n",
                        "   ---------------------------------------- 12.8/12.8 MB 7.1 MB/s eta 0:00:00\n",
                        "Downloading pillow-11.3.0-cp313-cp313-win_amd64.whl (7.0 MB)\n",
                        "   ---------------------------------------- 0.0/7.0 MB ? eta -:--:--\n",
                        "   --------- ------------------------------ 1.6/7.0 MB 7.8 MB/s eta 0:00:01\n",
                        "   ------------------ --------------------- 3.1/7.0 MB 7.9 MB/s eta 0:00:01\n",
                        "   --------------------------- ------------ 4.7/7.0 MB 7.8 MB/s eta 0:00:01\n",
                        "   --------------------------------- ------ 5.8/7.0 MB 7.8 MB/s eta 0:00:01\n",
                        "   ---------------------------------------- 7.0/7.0 MB 7.3 MB/s eta 0:00:00\n",
                        "Downloading pyparsing-3.2.3-py3-none-any.whl (111 kB)\n",
                        "Installing collected packages: pyparsing, pillow, numpy, kiwisolver, fonttools, cycler, contourpy, matplotlib\n",
                        "Successfully installed contourpy-1.3.3 cycler-0.12.1 fonttools-4.59.0 kiwisolver-1.4.8 matplotlib-3.10.5 numpy-2.3.2 pillow-11.3.0 pyparsing-3.2.3\n"
                    ]
                },
                {
                    "name": "stderr",
                    "output_type": "stream",
                    "text": [
                        "\n",
                        "[notice] A new release of pip is available: 25.0.1 -> 25.2\n",
                        "[notice] To update, run: python.exe -m pip install --upgrade pip\n"
                    ]
                }
            ],
            "source": [
                "%pip install matplotlib\n",
=======
            "outputs": [],
            "source": [
>>>>>>> a71e9c4f0218fff378410005e891481d70b4224f
                "import matplotlib.pyplot as plt\n",
                "\n",
                "dias = ['Lun', 'Mar', 'Mié', 'Jue', 'Vie', 'Sáb', 'Dom', 'Extra']\n",
                "plt.plot(dias, temperaturas, marker='o')\n",
                "plt.title('Temperaturas Semanales')\n",
                "plt.xlabel('Días')\n",
                "plt.ylabel('Temperatura (°C)')\n",
                "plt.show()\n"
            ]
        }
    ],
    "metadata": {
        "kernelspec": {
            "display_name": "Python 3",
            "language": "python",
            "name": "python3"
        },
        "language_info": {
            "codemirror_mode": {
                "name": "ipython",
                "version": 3
            },
            "file_extension": ".py",
            "mimetype": "text/x-python",
            "name": "python",
            "nbconvert_exporter": "python",
            "pygments_lexer": "ipython3",
            "version": "3.13.3"
        }
    },
    "nbformat": 4,
    "nbformat_minor": 2
}
