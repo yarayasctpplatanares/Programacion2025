{
 "cells": [
  {
   "cell_type": "markdown",
   "metadata": {},
   "source": [
    "# NOTEBOOK 02 - Tipos de datos y Variables\n",
    "## Fundamentos de Programación: Tipos de Datos, Variables y Operaciones Básicas\n",
    "### Prof: Ing. Andrés Mena Abarca\n",
    "\n",
    "> ## Nombre del estudiante: Yariel Araya"
   ]
  },
  {
   "cell_type": "markdown",
   "metadata": {},
   "source": [
    "\n",
    "\n",
    "---\n",
    "\n",
    "## 1. Tipos de Datos en Python\n",
    "## **1. Introducción a los Tipos de Datos Básicos**\n",
    "\n",
    "### **Explicación:**\n",
    "En Python, los tipos de datos básicos son los bloques fundamentales para almacenar y manipular información. Estos tipos son:\n",
    "\n",
    "1. **`int` (Enteros):**\n",
    "   - Representan números enteros, positivos o negativos.\n",
    "   - Ejemplos: `5`, `-10`, `1000`.\n",
    "   - No tienen límite de tamaño (dependen de la memoria disponible).\n",
    "\n",
    "2. **`float` (Decimales):**\n",
    "   - Representan números con parte decimal.\n",
    "   - Ejemplos: `3.14`, `-0.001`, `2.0`.\n",
    "   - Se almacenan con una precisión limitada (aproximadamente 15 decimales).\n",
    "\n",
    "3. **`str` (Cadenas de Texto):**\n",
    "   - Representan secuencias de caracteres.\n",
    "   - Se definen entre comillas simples (`'Hola'`) o dobles (`\"Python\"`).\n",
    "   - Son inmutables (no se pueden modificar después de crearse).\n",
    "\n",
    "4. **`bool` (Booleanos):**\n",
    "   - Representan valores lógicos: `True` (verdadero) o `False` (falso).\n",
    "   - Se usan en condiciones y operaciones lógicas.\n",
    "\n",
    "### **Práctica:**\n",
    "\n",
    "```python\n",
    "# Declara variables de cada tipo\n",
    "edad = 25  # int\n",
    "altura = 1.75  # float\n",
    "nombre = \"Ana\"  # str\n",
    "es_estudiante = True  # bool\n",
    "\n",
    "# Muestra el tipo de cada variable usando la función type()\n",
    "print(type(edad))  # <class 'int'>\n",
    "print(type(altura))  # <class 'float'>\n",
    "print(type(nombre))  # <class 'str'>\n",
    "print(type(es_estudiante))  # <class 'bool'>\n",
    "\n",
    "## Ejercicios \n",
    "\n",
    "1. Declara una variable de tipo entero y asigna el valor *25*. Luego, imprime su tipo."
   ]
  },
  {
   "cell_type": "code",
   "execution_count": 17,
   "metadata": {},
   "outputs": [
    {
     "name": "stdout",
     "output_type": "stream",
     "text": [
      "Mi nombre es yariel, mido (1, 68). Tengo 15 años, soy estudiante True\n"
     ]
    }
   ],
   "source": [
    "edad= 15\n",
    "altura= 1,68\n",
    "nombre= 'yariel'\n",
    "es_estudiante = True \n",
    "\n",
    "print (f\"Mi nombre es {nombre}, mido {altura}. Tengo {edad} años, soy estudiante {es_estudiante}\")\n",
    "\n",
    "\n",
    "\n"
   ]
  },
  {
   "cell_type": "markdown",
   "metadata": {},
   "source": [
    "2. Declara una variable de tipo flotante con el valor *3.1416*. Imprime su tipo.\n"
   ]
  },
  {
   "cell_type": "code",
   "execution_count": 20,
   "metadata": {},
   "outputs": [
    {
     "name": "stdout",
     "output_type": "stream",
     "text": [
      "valor PI 3.14\n",
      "<class 'float'>\n"
     ]
    }
   ],
   "source": [
    "pi = float( input(\"Ingrese el valor de PI:\"))\n",
    "print(\"valor PI\",pi)\n",
    "print(type(pi))"
   ]
  },
  {
   "cell_type": "markdown",
   "metadata": {},
   "source": [
    "3. Crea una variable es_estudiante que almacene un valor booleano indicando si eres estudiante."
   ]
  },
  {
   "cell_type": "code",
   "execution_count": 21,
   "metadata": {},
   "outputs": [
    {
     "name": "stdout",
     "output_type": "stream",
     "text": [
      "estudiante\n",
      "<class 'str'>\n"
     ]
    }
   ],
   "source": [
    "estudiante = input (\"eres un estudiante true/false \")\n",
    "print (estudiante)\n",
    "print(type(estudiante))"
   ]
  },
  {
   "cell_type": "markdown",
   "metadata": {},
   "source": [
    "## 2. Variables en Python\n",
    "\n",
    "### Teoría\n",
    "Las variables son espacios de memoria donde almacenamos datos. En Python, no es necesario declarar el tipo de la variable, simplemente se asigna un valor con el símbolo `=`.\n",
    "\n",
    "#### Reglas para nombrar variables:\n",
    "- Deben comenzar con una letra o un guion bajo.\n",
    "- No pueden comenzar con un número.\n",
    "- Solo pueden contener letras, números y guiones bajos.\n",
    "- Son sensibles a mayúsculas y minúsculas (`nombre` y `Nombre` son diferentes).\n",
    "\n",
    "### Ejemplo"
   ]
  },
  {
   "cell_type": "code",
   "execution_count": null,
   "metadata": {},
   "outputs": [],
   "source": [
    "# Declaración de variables\n",
    "mi_nombre = \"Carlos\"\n",
    "edad = 20\n",
    "\n",
    "# Variables válidas\n",
    "nombre_completo = \"Ana Pérez\"\n",
    "_variable_secreta = 42 # convención para indicar que esa variable es protegida.\n",
    "\n",
    "# Variables inválidas (descomentar para ver los errores)\n",
    " 2variable = 10  # Error: no puede comenzar con un número\n",
    " nombre completo = \"Juan\"  # Error: no puede contener espacios"
   ]
  },
  {
   "cell_type": "markdown",
   "metadata": {},
   "source": [
    "## 3. Operaciones Básicas de Entrada y Salida\n",
    "\n",
    "### Teoría\n",
    "Las operaciones de entrada y salida son fundamentales para interactuar con el usuario. En Python, utilizamos la función `input()` para capturar datos del usuario y `print()` para mostrar información en pantalla.\n",
    "\n",
    "### Ejemplos"
   ]
  },
  {
   "cell_type": "code",
   "execution_count": 22,
   "metadata": {},
   "outputs": [
    {
     "name": "stdout",
     "output_type": "stream",
     "text": [
      "¡Hola, mundo!\n",
      "su nombre es yariel\n"
     ]
    }
   ],
   "source": [
    "# Operación de salida\n",
    "print(\"¡Hola, mundo!\")\n",
    "\n",
    "# Operación de entrada + Saalida con format\n",
    "nombre = input(\"ingrese su nombre por favor: \")\n",
    "print(f\"su nombre es {nombre}\")\n"
   ]
  },
  {
   "cell_type": "markdown",
   "metadata": {},
   "source": [
    "En otros lenguajes, como *Java*, el proceso es similar pero con algunas diferencias en la sintaxis:\n",
    "\n",
    "```Java\n",
    "// Ejemplo en Java\n",
    "import java.util.Scanner;\n",
    "\n",
    "public class EntradaSalida {\n",
    "    public static void main(String[] args) {\n",
    "        Scanner input = new Scanner(System.in);\n",
    "        System.out.print(\"¿Cómo te llamas? \");\n",
    "        String nombre = input.nextLine();\n",
    "        System.out.println(\"Hola, \" + nombre + \"!\");\n",
    "    }\n",
    "}\n",
    "\n",
    "```"
   ]
  },
  {
   "cell_type": "markdown",
   "metadata": {},
   "source": [
    "## 4. Operadores Básicos en Python\n",
    "\n",
    "### Teoría\n",
    "Los operadores en Python nos permiten realizar diversas operaciones con variables y datos. Los más comunes son:\n",
    "\n",
    "- **Operadores matemáticos**: `+`, `-`, `*`, `/`, `//` (división entera), `%` (módulo)\n",
    "- **Operadores de asignación**: `=`, `+=`, `-=`, `*=`, `/=`\n",
    "- **Operadores de comparación**: `==`, `!=`, `<`, `>`, `<=`, `>=`\n",
    "- **Operadores lógicos**: `and`, `or`, `not`\n",
    "\n",
    "### Tabla de Operadores Matemáticos\n",
    "\n",
    "| Operador | Descripción           | Ejemplo           |\n",
    "|----------|-----------------------|-------------------|\n",
    "| `+`      | Suma                  | `5 + 3 = 8`       |\n",
    "| `-`      | Resta                 | `5 - 2 = 3`       |\n",
    "| `*`      | Multiplicación         | `5 * 2 = 10`      |\n",
    "| `/`      | División              | `10 / 2 = 5.0`    |\n",
    "| `//`     | División entera        | `10 // 3 = 3`     |\n",
    "| `%`      | Módulo (resto)         | `10 % 3 = 1`      |\n",
    "\n",
    "### Ejemplos"
   ]
  },
  {
   "cell_type": "markdown",
   "metadata": {},
   "source": [
    "#### Problema 1: Operadores Matemáticos y Comparación en Python\n",
    "\n",
    "Tienes dos variables `a = 10` y `b = 5`. Realiza las siguientes operaciones matemáticas:"
   ]
  },
  {
   "cell_type": "code",
   "execution_count": null,
   "metadata": {},
   "outputs": [
    {
     "ename": "_IncompleteInputError",
     "evalue": "incomplete input (455958580.py, line 11)",
     "output_type": "error",
     "traceback": [
      "  \u001b[36mCell\u001b[39m\u001b[36m \u001b[39m\u001b[32mIn[44]\u001b[39m\u001b[32m, line 11\u001b[39m\n\u001b[31m    \u001b[39m\u001b[31mprint(f\"la suma de \" (a) + (b)\u001b[39m\n                                  ^\n\u001b[31m_IncompleteInputError\u001b[39m\u001b[31m:\u001b[39m incomplete input\n"
     ]
    }
   ],
   "source": [
    "a = 10 \n",
    "b = 5\n",
    "suma = a + b\n",
    "resta = a - b\n",
    "multiplicacion = a * b\n",
    "division = a / b \n",
    "division_entera = a // b \n",
    "modulo_resto = a % b\n",
    "\n",
    "\n",
    "print (f\"la suma de \" {a} + {b} es {suma}\")\n",
    "print (f\"la resta de\" {a} + {b}\n"
   ]
  },
  {
   "cell_type": "markdown",
   "metadata": {},
   "source": [
    "#### Práctica:\n",
    "> Función para calcular el área de un círculo:"
   ]
  },
  {
   "cell_type": "code",
   "execution_count": 45,
   "metadata": {},
   "outputs": [
    {
     "name": "stdout",
     "output_type": "stream",
     "text": [
      "El area del circulo es 706.8583470577034\n"
     ]
    }
   ],
   "source": [
    "from math import pi\n",
    "radio = float(input(\"ingrese el valor del radio: \"))\n",
    "area = pi * (radio **2)\n",
    "print(f\"El area del circulo es {area}\")"
   ]
  },
  {
   "cell_type": "markdown",
   "metadata": {},
   "source": [
    "#### Problema 2: Comparación de Números\n",
    "Usa los siguientes operadores de comparación para verificar la relación entre a y b. ¿Qué resultado esperas?"
   ]
  },
  {
   "cell_type": "code",
   "execution_count": 62,
   "metadata": {},
   "outputs": [
    {
     "name": "stdout",
     "output_type": "stream",
     "text": [
      "False\n",
      "False\n",
      "True\n",
      "True\n"
     ]
    }
   ],
   "source": [
    "# Operadores de comparación\n",
    "a = 10\n",
    "b = 12\n",
    "# ¿Es a igual a b?\n",
    "print(a == b)\n",
    "# ¿Es a mayor que b?\n",
    "print(a > b)\n",
    "# ¿Es a menor que b?\n",
    "print(a < b)\n",
    "#Diferente\n",
    "print (a != b)"
   ]
  },
  {
   "cell_type": "markdown",
   "metadata": {},
   "source": [
    "### Problema 3: Operadores Lógicos\n",
    "Usa operadores lógicos para combinar condiciones. Resuelve el siguiente problema: ¿Es a mayor que 0 y b menor que 10? \n",
    "\n",
    "- ¿Qué pasa si a = -10?"
   ]
  },
  {
   "cell_type": "code",
   "execution_count": 56,
   "metadata": {},
   "outputs": [
    {
     "name": "stdout",
     "output_type": "stream",
     "text": [
      "False\n"
     ]
    }
   ],
   "source": [
    "# Ejemplo: Operador lógico AND (usuario y contraseña)\n",
    "\n",
    "# Datos correctos (simulando una base de datos)\n",
    "usuario_correcto = \"admin\"\n",
    "contraseña_correcta = \"1234\"\n",
    "\n",
    "contrasena = input (\"ingrse la contraseña porfavor: \")\n",
    "usuario = input(\"ingrese el usuario porfavor: \")\n",
    "print(usuario == usuario_correcto and contrasena == contraseña_correcta)\n",
    "\n",
    "\n"
   ]
  },
  {
   "cell_type": "code",
   "execution_count": null,
   "metadata": {},
   "outputs": [],
   "source": [
    "# Ejemplo: Operador lógico OR\n",
    "papa = True\n",
    "mama = True \n",
    "# Preguntar si mamá o papá dan permiso\n",
    "print(papa or mama)\n",
    "papa = False \n",
    "mama = False\n",
    "print(papa or mama )"
   ]
  },
  {
   "cell_type": "code",
   "execution_count": null,
   "metadata": {},
   "outputs": [],
   "source": []
  },
  {
   "cell_type": "code",
   "execution_count": null,
   "metadata": {},
   "outputs": [],
   "source": [
    "# ¿Ambas condiciones son verdaderas?\n",
    "\n",
    "# ¿Al menos una de las condiciones es verdadera?\n",
    "\n",
    "# ¿Es falso que a sea mayor que b?\n"
   ]
  },
  {
   "cell_type": "markdown",
   "metadata": {},
   "source": [
    "### Problema 4: Divisiones y Módulo\n",
    "Prueba las operaciones de división entera y módulo para ver cómo Python maneja los restos de las divisiones."
   ]
  },
  {
   "cell_type": "code",
   "execution_count": 57,
   "metadata": {},
   "outputs": [
    {
     "ename": "IndentationError",
     "evalue": "unexpected indent (446405624.py, line 4)",
     "output_type": "error",
     "traceback": [
      "  \u001b[36mCell\u001b[39m\u001b[36m \u001b[39m\u001b[32mIn[57]\u001b[39m\u001b[32m, line 4\u001b[39m\n\u001b[31m    \u001b[39m\u001b[31mprint(11 % 2)\u001b[39m\n    ^\n\u001b[31mIndentationError\u001b[39m\u001b[31m:\u001b[39m unexpected indent\n"
     ]
    }
   ],
   "source": [
    "# División entera y módulo\n",
    "print(11 / 2)\n",
    "print(11 // 2)\n",
    " print(11 % 2) \n"
   ]
  },
  {
   "cell_type": "code",
   "execution_count": 58,
   "metadata": {},
   "outputs": [
    {
     "name": "stdout",
     "output_type": "stream",
     "text": [
      "numero par:  True\n"
     ]
    }
   ],
   "source": [
    "# Función para verificar si un númer\n",
    "numero = float (input(\" profesor ingrese un numero \"))\n",
    "print(\"numero par: \", numero % 2 == 0)\n"
   ]
  },
  {
   "cell_type": "markdown",
   "metadata": {
    "vscode": {
     "languageId": "powershell"
    }
   },
   "source": [
    "### 5. Conversión entre Tipos de Datos\n",
    "Python permite convertir entre tipos de datos usando funciones como:\n",
    "\n",
    "- `int()`: Convierte a entero.\n",
    "- `float()`: Convierte a decimal.\n",
    "- `str():` Convierte a cadena.\n",
    "- `bool()`: Convierte a booleano."
   ]
  },
  {
   "cell_type": "code",
   "execution_count": null,
   "metadata": {
    "vscode": {
     "languageId": "powershell"
    }
   },
   "outputs": [],
   "source": [
    "# Conversión de tipos\n",
    "variable = 10 \n",
    "print(type(variable))"
   ]
  },
  {
   "cell_type": "code",
   "execution_count": null,
   "metadata": {
    "vscode": {
     "languageId": "powershell"
    }
   },
   "outputs": [],
   "source": [
    "# Conversión de cadenas a números"
   ]
  },
  {
   "cell_type": "markdown",
   "metadata": {},
   "source": [
    "### Ejercicio Final:\n",
    "\n",
    "Combina operadores matemáticos, de comparación y lógicos. Escribe un programa que pida al usuario dos números y realice las siguientes tareas:\n",
    "\n",
    "1. Verifique si el primer número es mayor que el segundo.\n",
    "2. Calcule la suma, resta, división y módulo de ambos.\n",
    "3. Determine si la suma de ambos números es mayor que 20 **y** si alguno de los dos es menor que 5."
   ]
  },
  {
   "cell_type": "code",
   "execution_count": 78,
   "metadata": {},
   "outputs": [
    {
     "name": "stdout",
     "output_type": "stream",
     "text": [
      "Numero1 es mayor que numero2:  True\n",
      " la suma es 7.0 + 2.0 es 9.0\n",
      " la resta es 7.0 - 2.0 es 5.0\n"
     ]
    }
   ],
   "source": [
    "#Respuesta\n",
    "numero1 = float (input(\"ingrese num1 \"))\n",
    "numero2 = float (input(\"ingrese num2\"))\n",
    "print (\"Numero1 es mayor que numero2: \",numero1 > numero2)\n",
    "\n",
    "\n",
    "\n",
    "suma = numero1 + numero2\n",
    "print(f\" la suma es {numero1} + {numero2} es {suma}\")\n",
    "\n",
    "\n",
    "resta = numero1 - numero2\n",
    "print(f\" la resta es {numero1} - {numero2} es {resta}\")\n"
   ]
  },
  {
   "cell_type": "code",
   "execution_count": 79,
   "metadata": {},
   "outputs": [
    {
     "name": "stdout",
     "output_type": "stream",
     "text": [
      " la division es 7.0 / 2.0 es 3.5\n"
     ]
    }
   ],
   "source": [
    "division = numero1 / numero2\n",
    "print(f\" la division es {numero1} / {numero2} es {division}\")"
   ]
  },
  {
   "cell_type": "code",
   "execution_count": null,
   "metadata": {},
   "outputs": [],
   "source": []
  },
  {
   "cell_type": "code",
   "execution_count": 80,
   "metadata": {},
   "outputs": [
    {
     "name": "stdout",
     "output_type": "stream",
     "text": [
      " el modulo es 7.0 % 2.0 es 1.0\n"
     ]
    }
   ],
   "source": [
    "modulo = numero1 % numero2\n",
    "print(f\" el modulo es {numero1} % {numero2} es {modulo}\")"
   ]
  },
  {
   "cell_type": "code",
   "execution_count": 91,
   "metadata": {},
   "outputs": [
    {
     "ename": "SyntaxError",
     "evalue": "Missing parentheses in call to 'print'. Did you mean print(...)? (3644070058.py, line 1)",
     "output_type": "error",
     "traceback": [
      "  \u001b[36mCell\u001b[39m\u001b[36m \u001b[39m\u001b[32mIn[91]\u001b[39m\u001b[32m, line 1\u001b[39m\n\u001b[31m    \u001b[39m\u001b[31m(print numero1 + numero2 > 20 and (numero1 < 5 or numero 2))\u001b[39m\n     ^\n\u001b[31mSyntaxError\u001b[39m\u001b[31m:\u001b[39m Missing parentheses in call to 'print'. Did you mean print(...)?\n"
     ]
    }
   ],
   "source": [
    " (print numero1 + numero2 > 20 and (numero1 < 5 or numero 2))"
   ]
  },
  {
   "cell_type": "code",
   "execution_count": null,
   "metadata": {},
   "outputs": [
    {
     "name": "stdout",
     "output_type": "stream",
     "text": [
      " la suma es 9 + 18 es (suma)\n"
     ]
    }
   ],
   "source": []
  }
 ],
 "metadata": {
  "kernelspec": {
   "display_name": "Python 3",
   "language": "python",
   "name": "python3"
  },
  "language_info": {
   "codemirror_mode": {
    "name": "ipython",
    "version": 3
   },
   "file_extension": ".py",
   "mimetype": "text/x-python",
   "name": "python",
   "nbconvert_exporter": "python",
   "pygments_lexer": "ipython3",
   "version": "3.13.3"
  }
 },
 "nbformat": 4,
 "nbformat_minor": 2
}
